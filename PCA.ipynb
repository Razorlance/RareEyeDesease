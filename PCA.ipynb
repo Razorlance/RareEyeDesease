{
  "nbformat": 4,
  "nbformat_minor": 0,
  "metadata": {
    "colab": {
      "provenance": []
    },
    "kernelspec": {
      "name": "python3",
      "display_name": "Python 3"
    },
    "language_info": {
      "name": "python"
    }
  },
  "cells": [
    {
      "cell_type": "code",
      "execution_count": null,
      "metadata": {
        "id": "b1oqRHBM4439"
      },
      "outputs": [],
      "source": [
        "import pandas as pd\n",
        "import numpy as np\n",
        "from sdv.single_table import CTGANSynthesizer\n",
        "from sdv.metadata import SingleTableMetadata\n",
        "from sklearn.feature_selection import RFE, mutual_info_classif\n",
        "from sklearn.linear_model import LogisticRegression\n",
        "from sklearn.decomposition import PCA\n",
        "from xgboost import XGBClassifier\n",
        "import matplotlib.pyplot as plt\n",
        "import seaborn as sns"
      ]
    },
    {
      "cell_type": "code",
      "source": [
        "def fit_ctgan_synthesizer(data, epochs=300, verbose=False):\n",
        "    metadata = SingleTableMetadata()\n",
        "    metadata.detect_from_dataframe(data)\n",
        "    synthesizer = CTGANSynthesizer(metadata=metadata, epochs=epochs, verbose=verbose)\n",
        "    synthesizer.fit(data)\n",
        "    return synthesizer"
      ],
      "metadata": {
        "id": "KY7KiraJ5fNq"
      },
      "execution_count": null,
      "outputs": []
    },
    {
      "cell_type": "code",
      "source": [
        "aniridia_df = pd.read_excel(\"2025-04-11 Aniridiia oftal'molog.xlsx\")\n",
        "albinism_df = pd.read_excel(\"2025-04-11 Al'binizm oftal'molog.xlsx\")"
      ],
      "metadata": {
        "id": "l7_3R4Qg5aDd"
      },
      "execution_count": null,
      "outputs": []
    },
    {
      "cell_type": "code",
      "source": [
        "def parse_age_to_years(age_str):\n",
        "    if pd.isna(age_str):\n",
        "        return np.nan\n",
        "    s = str(age_str).lower().replace(',', '.').strip()\n",
        "    if 'mes' in s or 'мес' in s:\n",
        "        digits = ''.join(ch for ch in s if ch.isdigit())\n",
        "        if digits:\n",
        "            return int(digits) / 12.0\n",
        "        else:\n",
        "            return np.nan\n",
        "    if 'год' in s or 'лет' in s or 'года' in s:\n",
        "        nums = [int(x) for x in s.split() if x.isdigit()]\n",
        "        if len(nums) == 0:\n",
        "            return np.nan\n",
        "        if len(nums) == 1:\n",
        "            return float(nums[0])\n",
        "        if len(nums) >= 2:\n",
        "            years = float(nums[0]); months = float(nums[1])\n",
        "            if years < 0: years = 0\n",
        "            if months < 0: months = 0\n",
        "            return years + months/12.0\n",
        "    try:\n",
        "        return float(s)\n",
        "    except:\n",
        "        return np.nan\n"
      ],
      "metadata": {
        "id": "ZY6UV6CG5ZNS"
      },
      "execution_count": null,
      "outputs": []
    },
    {
      "cell_type": "code",
      "source": [
        "def preprocess_dataset(df, disease_type):\n",
        "    result = pd.DataFrame()\n",
        "    # Age\n",
        "    if 'Возраст пациента' in df.columns or 'Возраст' in ' '.join(df.columns):\n",
        "        age_col = 'Возраст пациента' if 'Возраст пациента' in df.columns else 'Возраст'\n",
        "        result['Age'] = df[age_col].apply(parse_age_to_years)\n",
        "    else:\n",
        "        result['Age'] = np.nan\n",
        "    # Sex\n",
        "    if 'Пол' in df.columns:\n",
        "        result['Sex_Male'] = df['Пол'].map({'М':1, 'Ж':0})\n",
        "    else:\n",
        "        result['Sex_Male'] = np.nan\n",
        "    # Nystagmus\n",
        "    nyst_col = None\n",
        "    for col in df.columns:\n",
        "        if 'нистагм' in str(col).lower():\n",
        "            nyst_col = col; break\n",
        "    if nyst_col:\n",
        "        result['Nystagmus'] = df[nyst_col].map({'Да':1, 'Нет':0})\n",
        "    else:\n",
        "        result['Nystagmus'] = np.nan\n",
        "    # Photophobia\n",
        "    photo_col = None\n",
        "    for col in df.columns:\n",
        "        if 'светобоязнь' in str(col).lower():\n",
        "            photo_col = col; break\n",
        "    if photo_col:\n",
        "        result['Photophobia'] = df[photo_col].map({'Да':1, 'Нет':0})\n",
        "    else:\n",
        "        result['Photophobia'] = 0 if disease_type=='albinism' else np.nan\n",
        "    # Cataract\n",
        "    cat_col = None\n",
        "    for col in df.columns:\n",
        "        if 'катаракта' in str(col).lower() and 'пациента' in str(col).lower():\n",
        "            cat_col = col; break\n",
        "    if cat_col:\n",
        "        result['Cataract'] = df[cat_col].map({'Да':1, 'Нет':0})\n",
        "    else:\n",
        "        result['Cataract'] = np.nan\n",
        "    # GeneticTestDone\n",
        "    gen_col = None\n",
        "    for col in df.columns:\n",
        "        if 'молекулярно' in str(col) and 'Да' in str(col):\n",
        "            gen_col = col; break\n",
        "    if gen_col:\n",
        "        result['GeneticTestDone'] = df[gen_col].fillna('Нет').map(lambda x: 1 if x=='Да' else 0)\n",
        "    else:\n",
        "        result['GeneticTestDone'] = np.nan\n",
        "    # UsesDevice\n",
        "    rehab_col = None\n",
        "    for col in df.columns:\n",
        "        if 'реабилитац' in str(col).lower():\n",
        "            rehab_col = col; break\n",
        "    if rehab_col:\n",
        "        result['UsesDevice'] = df[rehab_col].map({'Да':1, 'Нет':0})\n",
        "    else:\n",
        "        result['UsesDevice'] = np.nan\n",
        "    # Glaucoma\n",
        "    gl_col = None\n",
        "    for col in df.columns:\n",
        "        if 'глаукома' in str(col).lower() and 'пациента' in str(col).lower():\n",
        "            gl_col = col; break\n",
        "    if gl_col:\n",
        "        result['Glaucoma'] = df[gl_col].map({'Да':1, 'Нет':0})\n",
        "    else:\n",
        "        result['Glaucoma'] = np.nan\n",
        "    # SyndromeLabel\n",
        "    syndrome_label = []\n",
        "    for _, row in df.iterrows():\n",
        "        label = 'None'\n",
        "        notes_text = ''\n",
        "        for col in df.columns:\n",
        "            if ('екомендации' in str(col)) or ('заметки' in str(col)) or ('рекомендации' in str(col).lower()):\n",
        "                notes_text = str(row[col]).lower(); break\n",
        "        if disease_type=='aniridia':\n",
        "            if 'wagr' in notes_text or 'вагр' in notes_text:\n",
        "                label = 'WAGR'\n",
        "        elif disease_type=='albinism':\n",
        "            if 'hps' in notes_text or 'hermansky' in notes_text or 'гепат' in notes_text or 'пудлак' in notes_text:\n",
        "                label = 'HPS'\n",
        "        syndrome_label.append(label)\n",
        "    result['SyndromeLabel'] = syndrome_label\n",
        "    result['DiseaseType'] = disease_type\n",
        "    return result"
      ],
      "metadata": {
        "id": "ntNHMxVA5RXf"
      },
      "execution_count": null,
      "outputs": []
    },
    {
      "cell_type": "code",
      "source": [
        "proc_aniridia = preprocess_dataset(aniridia_df, 'aniridia')\n",
        "proc_albinism = preprocess_dataset(albinism_df, 'albinism')\n",
        "combined_df = pd.concat([proc_aniridia, proc_albinism], ignore_index=True)\n",
        "combined_df['Age'].fillna(combined_df['Age'].median(), inplace=True)\n",
        "proc_aniridia['Age'].fillna(proc_aniridia['Age'].median(), inplace=True)\n",
        "proc_albinism['Age'].fillna(proc_albinism['Age'].median(), inplace=True)\n",
        "for feature in ['Sex_Male', 'Nystagmus', 'Photophobia', 'Cataract', 'GeneticTestDone']:\n",
        "    combined_df[feature].fillna(0, inplace=True)\n",
        "    proc_aniridia[feature].fillna(0, inplace=True)\n",
        "    proc_albinism[feature].fillna(0, inplace=True)\n",
        "combined_df['DiseaseType'] = combined_df['DiseaseType'].map({'aniridia':0, 'albinism':1})\n",
        "\n",
        "glaucoma_features = ['Age', 'Sex_Male', 'Nystagmus', 'Cataract', 'GeneticTestDone']\n",
        "device_features   = ['Age', 'Sex_Male', 'Nystagmus', 'Photophobia', 'GeneticTestDone']\n",
        "syndrome_features = ['Age', 'Sex_Male', 'Nystagmus', 'Photophobia', 'Cataract', 'GeneticTestDone', 'DiseaseType']\n",
        "\n",
        "gl_mask = ~pd.isna(proc_aniridia['Glaucoma'])\n",
        "X_glaucoma = proc_aniridia.loc[gl_mask, glaucoma_features].values\n",
        "y_glaucoma = proc_aniridia.loc[gl_mask, 'Glaucoma'].astype(int).values\n",
        "dev_mask = ~pd.isna(proc_albinism['UsesDevice'])\n",
        "X_device = proc_albinism.loc[dev_mask, device_features].values\n",
        "y_device = proc_albinism.loc[dev_mask, 'UsesDevice'].astype(int).values\n",
        "X_syndrome = combined_df[syndrome_features].values\n",
        "y_syndrome = combined_df['SyndromeLabel'].map({'None':0, 'WAGR':1, 'HPS':2}).values"
      ],
      "metadata": {
        "id": "XSx8YnIm5Tx4"
      },
      "execution_count": null,
      "outputs": []
    },
    {
      "cell_type": "code",
      "source": [
        "train_gl = pd.DataFrame(X_glaucoma, columns=glaucoma_features)\n",
        "train_gl['y'] = y_glaucoma\n",
        "if any(y_glaucoma == 1):\n",
        "    pos_data = train_gl[train_gl['y']==1].drop('y', axis=1)\n",
        "    if len(pos_data) > 0:\n",
        "        ctgan_pos = fit_ctgan_synthesizer(pos_data)\n",
        "        syn_pos = ctgan_pos.sample(2 * len(pos_data))\n",
        "        if not syn_pos.empty:\n",
        "            syn_pos['y'] = 1\n",
        "            train_gl = pd.concat([train_gl, syn_pos], ignore_index=True)\n",
        "X_gl_aug = train_gl.drop('y', axis=1).values\n",
        "y_gl_aug = train_gl['y'].astype(int).values"
      ],
      "metadata": {
        "id": "cZVglLE15NHV"
      },
      "execution_count": null,
      "outputs": []
    },
    {
      "cell_type": "code",
      "source": [
        "train_de = pd.DataFrame(X_device, columns=device_features)\n",
        "train_de['y'] = y_device\n",
        "if any(y_device == 1):\n",
        "    pos_data = train_de[train_de['y']==1].drop('y', axis=1)\n",
        "    if len(pos_data) > 0:\n",
        "        ctgan_pos = fit_ctgan_synthesizer(pos_data)\n",
        "        syn_pos = ctgan_pos.sample(2 * len(pos_data))\n",
        "        if not syn_pos.empty:\n",
        "            syn_pos['y'] = 1\n",
        "            train_de = pd.concat([train_de, syn_pos], ignore_index=True)\n",
        "X_de_aug = train_de.drop('y', axis=1).values\n",
        "y_de_aug = train_de['y'].astype(int).values"
      ],
      "metadata": {
        "id": "zDgxhyej5LNt"
      },
      "execution_count": null,
      "outputs": []
    },
    {
      "cell_type": "code",
      "source": [
        "train_sy = pd.DataFrame(X_syndrome, columns=syndrome_features)\n",
        "train_sy['y'] = y_syndrome\n",
        "if any(train_sy['y']==1):\n",
        "    wagr_data = train_sy[train_sy['y']==1].drop('y', axis=1)\n",
        "    if len(wagr_data) >= 2:\n",
        "        ctgan_wagr = fit_ctgan_synthesizer(wagr_data)\n",
        "        syn_wagr = ctgan_wagr.sample(max(0, 20 - len(wagr_data)))\n",
        "        if not syn_wagr.empty:\n",
        "            syn_wagr['y'] = 1\n",
        "            train_sy = pd.concat([train_sy, syn_wagr], ignore_index=True)\n",
        "if any(train_sy['y']==2):\n",
        "    hps_data = train_sy[train_sy['y']==2].drop('y', axis=1)\n",
        "    if len(hps_data) >= 2:\n",
        "        ctgan_hps = fit_ctgan_synthesizer(hps_data)\n",
        "        syn_hps = ctgan_hps.sample(max(0, 20 - len(hps_data)))\n",
        "        if not syn_hps.empty:\n",
        "            syn_hps['y'] = 2\n",
        "            train_sy = pd.concat([train_sy, syn_hps], ignore_index=True)\n",
        "X_sy_aug = train_sy.drop('y', axis=1).values\n",
        "y_sy_aug = train_sy['y'].astype(int).values"
      ],
      "metadata": {
        "id": "QMxRWco05Jg3"
      },
      "execution_count": null,
      "outputs": []
    },
    {
      "cell_type": "code",
      "source": [
        "print(\"RFE Feature Selection:\")\n",
        "rfe_gl = RFE(LogisticRegression(solver='liblinear'), n_features_to_select=4)\n",
        "rfe_gl.fit(X_gl_aug, y_gl_aug)\n",
        "selected_gl = [glaucoma_features[i] for i, sel in enumerate(rfe_gl.support_) if sel]\n",
        "print(\" Glaucoma selected features:\", selected_gl)\n",
        "rfe_de = RFE(LogisticRegression(solver='liblinear'), n_features_to_select=4)\n",
        "rfe_de.fit(X_de_aug, y_de_aug)\n",
        "selected_de = [device_features[i] for i, sel in enumerate(rfe_de.support_) if sel]\n",
        "print(\" Device selected features:\", selected_de)\n",
        "rfe_sy = RFE(LogisticRegression(solver='liblinear'), n_features_to_select=6)\n",
        "rfe_sy.fit(X_sy_aug, y_sy_aug)\n",
        "selected_sy = [syndrome_features[i] for i, sel in enumerate(rfe_sy.support_) if sel]\n",
        "print(\" Syndrome selected features:\", selected_sy)"
      ],
      "metadata": {
        "id": "0XwpxTDo5Fvc"
      },
      "execution_count": null,
      "outputs": []
    },
    {
      "cell_type": "code",
      "source": [
        "mi_gl = mutual_info_classif(X_glaucoma, y_glaucoma, discrete_features='auto')\n",
        "mi_de = mutual_info_classif(X_device, y_device, discrete_features='auto')\n",
        "mi_sy = mutual_info_classif(X_syndrome, y_syndrome, discrete_features='auto')\n",
        "print(\"\\nMutual Information Scores:\")\n",
        "print(\" Glaucoma MI:\")\n",
        "for feat, score in sorted(zip(glaucoma_features, mi_gl), key=lambda x: x[1], reverse=True):\n",
        "    print(f\"  {feat}: {score:.3f}\")\n",
        "print(\" Device MI:\")\n",
        "for feat, score in sorted(zip(device_features, mi_de), key=lambda x: x[1], reverse=True):\n",
        "    print(f\"  {feat}: {score:.3f}\")\n",
        "print(\" Syndrome MI:\")\n",
        "for feat, score in sorted(zip(syndrome_features, mi_sy), key=lambda x: x[1], reverse=True):\n",
        "    print(f\"  {feat}: {score:.3f}\")"
      ],
      "metadata": {
        "id": "zkgG9tfe5DSt"
      },
      "execution_count": null,
      "outputs": []
    },
    {
      "cell_type": "code",
      "source": [
        "print(\"\\nFeature Importances (XGBoost):\")\n",
        "model_gl = XGBClassifier(use_label_encoder=False, eval_metric='logloss')\n",
        "model_gl.fit(X_glaucoma, y_glaucoma)\n",
        "for feat, imp in sorted(zip(glaucoma_features, model_gl.feature_importances_), key=lambda x: x[1], reverse=True):\n",
        "    print(f\"  Glaucoma - {feat}: {imp:.3f}\")\n",
        "\n",
        "model_de = XGBClassifier(use_label_encoder=False, eval_metric='logloss')\n",
        "model_de.fit(X_device, y_device)\n",
        "for feat, imp in sorted(zip(device_features, model_de.feature_importances_), key=lambda x: x[1], reverse=True):\n",
        "    print(f\"  Device - {feat}: {imp:.3f}\")\n",
        "\n",
        "model_sy = XGBClassifier(use_label_encoder=False, eval_metric='mlogloss', objective='multi:softprob', num_class=3)\n",
        "model_sy.fit(X_syndrome, y_syndrome)\n",
        "for feat, imp in sorted(zip(syndrome_features, model_sy.feature_importances_), key=lambda x: x[1], reverse=True):\n",
        "    print(f\"  Syndrome - {feat}: {imp:.3f}\")"
      ],
      "metadata": {
        "id": "Jx5i3NjZ5BC-"
      },
      "execution_count": null,
      "outputs": []
    },
    {
      "cell_type": "code",
      "source": [
        "pca = PCA(n_components=2)\n",
        "X_pca = pca.fit_transform(X_syndrome)\n",
        "print(\"\\nPCA explained variance ratios:\", pca.explained_variance_ratio_)\n",
        "plt.figure(figsize=(6,5))\n",
        "plt.scatter(X_pca[:,0], X_pca[:,1], c=y_syndrome, cmap='viridis', alpha=0.7)\n",
        "plt.xlabel(\"PC1\"); plt.ylabel(\"PC2\")\n",
        "plt.title(\"PCA of Syndrome Dataset (colored by class)\")\n",
        "plt.colorbar(label='Class')\n",
        "plt.show()"
      ],
      "metadata": {
        "id": "DumppvDB497Q"
      },
      "execution_count": null,
      "outputs": []
    }
  ]
}